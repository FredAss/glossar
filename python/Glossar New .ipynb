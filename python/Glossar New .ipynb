{
 "metadata": {
  "name": ""
 },
 "nbformat": 3,
 "nbformat_minor": 0,
 "worksheets": [
  {
   "cells": [
    {
     "cell_type": "code",
     "collapsed": false,
     "input": [
      "import csv\n",
      "import json\n",
      "import collections\n",
      "\n",
      "\n",
      "def convertCsvToJson(lang='de'):\n",
      "    with open(\"/home/knut/glossar-%s.csv\" % lang) as infile:\n",
      "        c = infile.readlines()[1:]\n",
      "        dr = csv.reader(c, delimiter=\",\")\n",
      "        terms = {}\n",
      "        for line in dr:\n",
      "            terms[line[0]] = {\"description\" : line[1], \"synonyms\": []}\n",
      "        od = collections.OrderedDict(sorted(terms.items()))\n",
      "            \n",
      "    with open('/home/knut/glossar-begriffe-%s.json' % lang, 'w') as outfile:\n",
      "        outfile.write(json.dumps(od, indent=2))\n",
      "\n",
      "if __name__==\"__main__\":\n",
      "    convertCsvToJson('de')\n",
      "    convertCsvToJson('en')       \n",
      "    print('done')"
     ],
     "language": "python",
     "metadata": {},
     "outputs": [
      {
       "output_type": "stream",
       "stream": "stdout",
       "text": [
        "done\n"
       ]
      }
     ],
     "prompt_number": 24
    },
    {
     "cell_type": "code",
     "collapsed": false,
     "input": [],
     "language": "python",
     "metadata": {},
     "outputs": []
    }
   ],
   "metadata": {}
  }
 ]
}