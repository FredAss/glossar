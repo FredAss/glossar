{
 "metadata": {
  "name": ""
 },
 "nbformat": 3,
 "nbformat_minor": 0,
 "worksheets": [
  {
   "cells": [
    {
     "cell_type": "code",
     "collapsed": false,
     "input": [
      "import csv\n",
      "import json\n",
      "import collections\n",
      "\n",
      "\n",
      "def readCsv(lang=\"de\"):\n",
      "    with open(\"/home/knut/glossar/data/glossar-%s.csv\" % lang) as infile:\n",
      "        content = infile.readlines()[1:]\n",
      "        reader = csv.reader(content, delimiter=\",\")\n",
      "        terms = {}\n",
      "        for line in reader:\n",
      "            terms[line[0].replace(\"\\xad\", \"\").strip()] = {\"description\" : line[1], \"synonyms\": []}\n",
      "        od = collections.OrderedDict(sorted(terms.items()))\n",
      "    return od\n",
      "\n",
      "def readTranslations():\n",
      "    with open(\"/home/knut/glossar/data/translations.csv\") as infile:\n",
      "        content = infile.readlines()\n",
      "        dictReader = csv.DictReader(content)\n",
      "    translations = {}\n",
      "    for line in dictReader:\n",
      "        key = line[\"german\"].replace(\"\\xad\", \"\")\n",
      "        if \">\" not in line[\"german\"]:\n",
      "            translations[key] = line[\"english\"]\n",
      "        else:\n",
      "            term, synonym = [part.strip() for part in key.split(\">\")]\n",
      "            translations[term] = line[\"english\"]\n",
      "            translations[synonym] = line[\"english\"]\n",
      "    return translations        \n",
      "        \n",
      "    return {line[\"german\"]: line[\"english\"] for line in dictReader}\n",
      "       \n",
      "        \n",
      "        \n",
      "def convertCsvToJson(lang='de'):\n",
      "    data = readCsv(lang)\n",
      "    with open('/home/knut/glossar/data/glossar-begriffe-%s.json' % lang, 'w') as outfile:\n",
      "        outfile.write(json.dumps(data, indent=2))\n",
      "        \n",
      "def createInternationalMergedFile():\n",
      "    germanTerms = readCsv(\"de\")\n",
      "    englishTerms = readCsv(\"en\")\n",
      "    translations = readTranslations()\n",
      "    \n",
      "    output = []\n",
      "    \n",
      "    for dirtyTerm in germanTerms:\n",
      "        term = cleanupTerm(dirtyTerm)\n",
      "        englishTerm = translations[term].split(\"\\n>\")[0].strip()\n",
      "        if englishTerm == \"\":\n",
      "            continue\n",
      "        \n",
      "        output.append({\"description-german\": germanTerms[dirtyTerm][\"description\"],\n",
      "                       \"description-english\": englishTerms[englishTerm][\"description\"],\n",
      "                       \"term-german\": term,\n",
      "                       \"term-english\": englishTerm\n",
      "                       })\n",
      "    \n",
      "    with open(\"/home/knut/glossar/src/data/terms-international.json\", \"w\") as outfile:\n",
      "        json.dump(output, outfile, indent=2) \n",
      "        \n",
      "        \n",
      "\n",
      "        \n",
      "def cleanupTerm(term):\n",
      "    term = term.replace(\"\\xad\", \"\")\n",
      "    if term in [\"Evaluierungs-bericht\", \"Interview\u2013checkliste\", \"Nutzungs\u2013szenario\"]:\n",
      "        term = term.replace(\"-\", \"\").replace(\"\u2013\", \"\")\n",
      "    if term == \"Suggestivfrage\":\n",
      "        term = \"Suggestionsfrage\"\n",
      "    return term\n",
      "    \n",
      "        \n",
      "if __name__==\"__main__\":\n",
      "    #convertCsvToJson('de')\n",
      "    #convertCsvToJson('en')       \n",
      "    createInternationalMergedFile()\n",
      "    print('done')"
     ],
     "language": "python",
     "metadata": {},
     "outputs": [
      {
       "output_type": "stream",
       "stream": "stdout",
       "text": [
        "done\n"
       ]
      }
     ],
     "prompt_number": 67
    },
    {
     "cell_type": "code",
     "collapsed": false,
     "input": [],
     "language": "python",
     "metadata": {},
     "outputs": []
    }
   ],
   "metadata": {}
  }
 ]
}