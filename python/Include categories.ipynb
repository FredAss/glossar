{
 "metadata": {
  "name": "",
  "signature": "sha256:21acc963e27253492905193068cf9069355d694ed9d4ed50173d4945fd650cf7"
 },
 "nbformat": 3,
 "nbformat_minor": 0,
 "worksheets": [
  {
   "cells": [
    {
     "cell_type": "code",
     "collapsed": false,
     "input": [
      "import json\n",
      "\n",
      "with open(\"/home/knut/glossar/data/categoryMap-with-manual-additions.json\") as infile:\n",
      "    categories = json.load(infile)\n",
      "\n",
      "with open(\"/home/knut/glossar/src/data/terms-international.json\") as infile:\n",
      "    terms = json.load(infile)\n",
      "    \n",
      "for term in terms:\n",
      "    term[\"categories\"] = categories[term[\"term-german\"]]\n",
      "\n",
      "with open(\"/home/knut/glossar/src/data/terms-international-with-categories.json\", \"w\") as outfile:\n",
      "   json.dump(terms, outfile, indent=2, sort_keys=True)    "
     ],
     "language": "python",
     "metadata": {},
     "outputs": [],
     "prompt_number": 17
    }
   ],
   "metadata": {}
  }
 ]
}