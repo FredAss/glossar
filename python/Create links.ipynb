{
 "metadata": {
  "name": "",
  "signature": "sha256:23f64acee0e75e1b945f645aa646d35a5359f9e8454cc263e965a3270ed113ab"
 },
 "nbformat": 3,
 "nbformat_minor": 0,
 "worksheets": [
  {
   "cells": [
    {
     "cell_type": "code",
     "collapsed": false,
     "input": [
      "import json\n",
      "import re\n",
      "with open(\"/home/knut/glossar/src/data/terms-international-with-categories.json\") as infile:\n",
      "    content = json.load(infile)\n",
      "    german_terms = [term[\"term-german\"] for term in content]\n",
      "    english_terms = [term[\"term-english\"] for term in content]\n",
      "\n",
      "    \n",
      "for term in content:\n",
      "    german_def = term[\"description-german\"]\n",
      "    english_def = term[\"description-english\"]\n",
      "\n",
      "    english_linked = english_def\n",
      "    german_linked = german_def\n",
      "    \n",
      "    # We do not want self referncing links\n",
      "    allowed = english_terms[:]\n",
      "    allowed.remove(term[\"term-english\"])\n",
      "    \n",
      "    for english_term in allowed:\n",
      "        english_linked = re.sub(r\"(?<![>=])(%s)\" % english_term, r\"<a href='#/glossary?term=%s'>\\1</a>\" % english_term, english_linked, flags=re.IGNORECASE, count=1)\n",
      "    english_linked = english_linked.replace(\"\\n\", \"<br />\")\n",
      "    \n",
      "    # We do not want self referncing links\n",
      "    allowed_german = german_terms[:]\n",
      "    allowed_german.remove(term[\"term-german\"])\n",
      "    allowed_german = sorted(allowed_german, key=len, reverse=True)\n",
      "    \n",
      "    for german_term in allowed_german:\n",
      "        german_linked = re.sub(r\"(?<![>=])(%s)\" % german_term, r\"<a href='#/glossary?term=%s'>\\1</a>\" % german_term, german_linked, flags=re.IGNORECASE, count=1)\n",
      "    german_linked = german_linked.replace(\"\\n\", \"<br />\")\n",
      "    \n",
      "      \n",
      "    term[\"description-german\"] = german_linked\n",
      "    term[\"description-english\"] = english_linked\n",
      "\n",
      "with open(\"/home/knut/glossar/src/data/terms-international-with-categories-linked.json\", \"w\") as outfile:\n",
      "    json.dump(content, outfile, indent=2, sort_keys=True)\n",
      "    print(\"done!\")"
     ],
     "language": "python",
     "metadata": {},
     "outputs": [
      {
       "output_type": "stream",
       "stream": "stdout",
       "text": [
        "done!\n"
       ]
      }
     ],
     "prompt_number": 15
    },
    {
     "cell_type": "code",
     "collapsed": false,
     "input": [],
     "language": "python",
     "metadata": {},
     "outputs": []
    }
   ],
   "metadata": {}
  }
 ]
}