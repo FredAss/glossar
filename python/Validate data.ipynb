{
 "metadata": {
  "name": "",
  "signature": "sha256:262f1afc4df29a4f1d174c569301a3223773bfbce41f669b2935386826f447f0"
 },
 "nbformat": 3,
 "nbformat_minor": 0,
 "worksheets": [
  {
   "cells": [
    {
     "cell_type": "code",
     "collapsed": false,
     "input": [
      "import json\n",
      "\n",
      "def main():\n",
      "    with open(\"/home/knut/glossar/src/data/terms-international-censored.json\") as infile:\n",
      "        terms = json.load(infile)\n",
      "    categories = []\n",
      "    for term in terms:\n",
      "        categories += term[\"categories\"]  \n",
      "    \n",
      "    single_categories = set(categories)\n",
      "    for category in single_categories:\n",
      "        print(\"Count for %s: %i\" % (category, categories.count(category)))\n",
      "        assert(categories.count(category) >= 4)\n",
      "    \n",
      "if __name__ == \"__main__\":\n",
      "    main()"
     ],
     "language": "python",
     "metadata": {},
     "outputs": [
      {
       "output_type": "stream",
       "stream": "stdout",
       "text": [
        "Count for Implementierung: 4\n",
        "Count for System: 16\n",
        "Count for Evaluierung: 40\n",
        "Count for Test: 31\n",
        "Count for Gestaltung: 27\n",
        "Count for Rollen: 22\n",
        "Count for Anforderungen: 20\n",
        "Count for Prinzipien: 25\n",
        "Count for Planung: 23\n"
       ]
      }
     ],
     "prompt_number": 15
    }
   ],
   "metadata": {}
  }
 ]
}