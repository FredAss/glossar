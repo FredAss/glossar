{
 "metadata": {
  "name": "",
  "signature": "sha256:ad3d84db53d39fdc23b531042f10b81cc1d06f6ed6feb7ed8832775609a06006"
 },
 "nbformat": 3,
 "nbformat_minor": 0,
 "worksheets": [
  {
   "cells": [
    {
     "cell_type": "code",
     "collapsed": false,
     "input": [
      "import json\n",
      "\n",
      "with open(\"/home/knut/glossar/src/data/terms.json\") as infile:\n",
      "    content = json.load(infile)\n",
      "\n",
      "    newdict = {}\n",
      "    for key in content.keys():\n",
      "        newdict[key] = content[key][\"categories\"]\n",
      "    \n",
      "with open(\"/home/knut/glossar/data/categoryMap.json\", \"w\") as outfile:\n",
      "    json.dump(newdict, outfile, indent=2, sort_keys=True)\n",
      "print(\"done!\") "
     ],
     "language": "python",
     "metadata": {},
     "outputs": [
      {
       "output_type": "stream",
       "stream": "stdout",
       "text": [
        "done!\n"
       ]
      }
     ],
     "prompt_number": 11
    }
   ],
   "metadata": {}
  }
 ]
}