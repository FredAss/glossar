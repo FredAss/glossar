{
 "metadata": {
  "name": "",
  "signature": "sha256:47553ee72aa78dfdfc3a5d8ed13cb32f0f0b24f7788ef43131b06b284c63b74b"
 },
 "nbformat": 3,
 "nbformat_minor": 0,
 "worksheets": []
}