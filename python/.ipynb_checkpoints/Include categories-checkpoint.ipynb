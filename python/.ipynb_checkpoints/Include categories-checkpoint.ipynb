{
 "metadata": {
  "name": "",
  "signature": "sha256:1f5c8e98f74271c64154669492ede30f3dfa9c8aa56d2d3fa0ff11cc1dc6e247"
 },
 "nbformat": 3,
 "nbformat_minor": 0,
 "worksheets": [
  {
   "cells": [
    {
     "cell_type": "code",
     "collapsed": false,
     "input": [
      "import json\n",
      "\n",
      "with open(\"/home/knut/glossar/data/categoryMap-with-manual-additions.json\") as infile:\n",
      "    categories = json.load(infile)\n",
      "\n",
      "with open(\"/home/knut/glossar/src/data/terms-international.json\") as infile:\n",
      "    terms = json.load(infile)\n",
      "    \n",
      "for term in terms:\n",
      "    term[\"categories\"] = categories[term[\"term-german\"]]\n",
      "\n",
      "with open(\"/home/knut/glossar/src/data/terms-international-with-categories.json\", \"w\") as outfile:\n",
      "   json.dump(terms, outfile, indent=2, sort_keys=True)\n",
      "\n",
      "    "
     ],
     "language": "python",
     "metadata": {},
     "outputs": [],
     "prompt_number": 17
    }
   ],
   "metadata": {}
  }
 ]
}